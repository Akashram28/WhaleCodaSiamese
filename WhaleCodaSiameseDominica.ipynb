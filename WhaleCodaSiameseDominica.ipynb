{
  "cells": [
    {
      "cell_type": "markdown",
      "metadata": {
        "id": "view-in-github",
        "colab_type": "text"
      },
      "source": [
        "<a href=\"https://colab.research.google.com/github/Akashram28/WhaleCodaSiamese/blob/main/WhaleCodaSiameseDominica.ipynb\" target=\"_parent\"><img src=\"https://colab.research.google.com/assets/colab-badge.svg\" alt=\"Open In Colab\"/></a>"
      ]
    },
    {
      "cell_type": "markdown",
      "source": [
        "The data processing steps are from [this](https://github.com/earthspecies/sperm-whale-clan-and-coda-detection) repository"
      ],
      "metadata": {
        "id": "KtItno2eWqzM"
      }
    },
    {
      "cell_type": "code",
      "source": [
        "!pip install -Uqq fastbook"
      ],
      "metadata": {
        "id": "1MKr_zRuWrHd"
      },
      "execution_count": null,
      "outputs": []
    },
    {
      "cell_type": "code",
      "execution_count": null,
      "metadata": {
        "id": "jqzontBFDLaJ"
      },
      "outputs": [],
      "source": [
        "!mkdir data"
      ]
    },
    {
      "cell_type": "code",
      "execution_count": null,
      "metadata": {
        "colab": {
          "base_uri": "https://localhost:8080/"
        },
        "id": "l8YOzeTCMagz",
        "outputId": "31912d3c-0d7b-4984-90d0-34c4e72e3219"
      },
      "outputs": [
        {
          "output_type": "stream",
          "name": "stdout",
          "text": [
            "--2024-08-11 06:09:23--  https://static-content.springer.com/esm/art%3A10.1038%2Fs41598-019-48909-4/MediaObjects/41598_2019_48909_MOESM2_ESM.xlsx\n",
            "Resolving static-content.springer.com (static-content.springer.com)... 151.101.0.95, 151.101.64.95, 151.101.128.95, ...\n",
            "Connecting to static-content.springer.com (static-content.springer.com)|151.101.0.95|:443... connected.\n",
            "HTTP request sent, awaiting response... 200 OK\n",
            "Length: 867711 (847K) [application/octet-stream]\n",
            "Saving to: ‘data/Dominicana.xlsx’\n",
            "\n",
            "data/Dominicana.xls 100%[===================>] 847.37K  --.-KB/s    in 0.06s   \n",
            "\n",
            "2024-08-11 06:09:25 (12.8 MB/s) - ‘data/Dominicana.xlsx’ saved [867711/867711]\n",
            "\n",
            "--2024-08-11 06:09:26--  https://static-content.springer.com/esm/art%3A10.1038%2Fs41598-019-48909-4/MediaObjects/41598_2019_48909_MOESM3_ESM.xlsx\n",
            "Resolving static-content.springer.com (static-content.springer.com)... 151.101.0.95, 151.101.64.95, 151.101.128.95, ...\n",
            "Connecting to static-content.springer.com (static-content.springer.com)|151.101.0.95|:443... connected.\n",
            "HTTP request sent, awaiting response... 200 OK\n",
            "Length: 1753245 (1.7M) [application/octet-stream]\n",
            "Saving to: ‘data/ETP.xlsx’\n",
            "\n",
            "data/ETP.xlsx       100%[===================>]   1.67M  --.-KB/s    in 0.08s   \n",
            "\n",
            "2024-08-11 06:09:29 (20.7 MB/s) - ‘data/ETP.xlsx’ saved [1753245/1753245]\n",
            "\n"
          ]
        }
      ],
      "source": [
        "!wget https://static-content.springer.com/esm/art%3A10.1038%2Fs41598-019-48909-4/MediaObjects/41598_2019_48909_MOESM2_ESM.xlsx -O data/Dominicana.xlsx\n",
        "!wget https://static-content.springer.com/esm/art%3A10.1038%2Fs41598-019-48909-4/MediaObjects/41598_2019_48909_MOESM3_ESM.xlsx -O data/ETP.xlsx"
      ]
    },
    {
      "cell_type": "code",
      "source": [
        "import pandas as pd"
      ],
      "metadata": {
        "id": "CM84el6eDcqW"
      },
      "execution_count": null,
      "outputs": []
    },
    {
      "cell_type": "code",
      "execution_count": null,
      "metadata": {
        "id": "LFvbVu6rMfwC"
      },
      "outputs": [],
      "source": [
        "from fastbook import *\n",
        "import pandas as pd"
      ]
    },
    {
      "cell_type": "code",
      "execution_count": null,
      "metadata": {
        "id": "WUTLe8hmMjX8"
      },
      "outputs": [],
      "source": [
        "dominicana = pd.read_excel('data/Dominicana.xlsx')\n",
        "etp = pd.read_excel('data/ETP.xlsx')"
      ]
    },
    {
      "cell_type": "code",
      "execution_count": null,
      "metadata": {
        "colab": {
          "base_uri": "https://localhost:8080/",
          "height": 399
        },
        "id": "IUXNr4AJNT4A",
        "outputId": "c9ebb66d-fa92-4cd4-cf95-16af421601b5"
      },
      "outputs": [
        {
          "output_type": "execute_result",
          "data": {
            "text/plain": [
              "   codaNUM2018                 Date  nClicks  Duration   ICI1   ICI2   ICI3  \\\n",
              "0            1  2005-03-04 00:00:00        5     1.188  0.293  0.282  0.298   \n",
              "1            2  2005-03-04 00:00:00        5     1.125  0.287  0.265  0.299   \n",
              "2            3  2005-03-04 00:00:00        5     1.090  0.264  0.253  0.297   \n",
              "3            4  2005-03-04 00:00:00        5     1.090  0.269  0.265  0.271   \n",
              "4            5  2005-03-04 00:00:00        5     1.101  0.273  0.267  0.266   \n",
              "\n",
              "    ICI4  ICI5  ICI6  ICI7  ICI8  ICI9 CodaType Clan Unit  UnitNum IDN  \n",
              "0  0.315   0.0   0.0   0.0   0.0   0.0      5R3  EC1    A        1   0  \n",
              "1  0.274   0.0   0.0   0.0   0.0   0.0      5R3  EC1    A        1   0  \n",
              "2  0.276   0.0   0.0   0.0   0.0   0.0      5R3  EC1    A        1   0  \n",
              "3  0.285   0.0   0.0   0.0   0.0   0.0      5R3  EC1    A        1   0  \n",
              "4  0.295   0.0   0.0   0.0   0.0   0.0      5R3  EC1    A        1   0  "
            ],
            "text/html": [
              "\n",
              "  <div id=\"df-7dc666dd-4d4c-4754-803a-bf27d4b21a34\" class=\"colab-df-container\">\n",
              "    <div>\n",
              "<style scoped>\n",
              "    .dataframe tbody tr th:only-of-type {\n",
              "        vertical-align: middle;\n",
              "    }\n",
              "\n",
              "    .dataframe tbody tr th {\n",
              "        vertical-align: top;\n",
              "    }\n",
              "\n",
              "    .dataframe thead th {\n",
              "        text-align: right;\n",
              "    }\n",
              "</style>\n",
              "<table border=\"1\" class=\"dataframe\">\n",
              "  <thead>\n",
              "    <tr style=\"text-align: right;\">\n",
              "      <th></th>\n",
              "      <th>codaNUM2018</th>\n",
              "      <th>Date</th>\n",
              "      <th>nClicks</th>\n",
              "      <th>Duration</th>\n",
              "      <th>ICI1</th>\n",
              "      <th>ICI2</th>\n",
              "      <th>ICI3</th>\n",
              "      <th>ICI4</th>\n",
              "      <th>ICI5</th>\n",
              "      <th>ICI6</th>\n",
              "      <th>ICI7</th>\n",
              "      <th>ICI8</th>\n",
              "      <th>ICI9</th>\n",
              "      <th>CodaType</th>\n",
              "      <th>Clan</th>\n",
              "      <th>Unit</th>\n",
              "      <th>UnitNum</th>\n",
              "      <th>IDN</th>\n",
              "    </tr>\n",
              "  </thead>\n",
              "  <tbody>\n",
              "    <tr>\n",
              "      <th>0</th>\n",
              "      <td>1</td>\n",
              "      <td>2005-03-04 00:00:00</td>\n",
              "      <td>5</td>\n",
              "      <td>1.188</td>\n",
              "      <td>0.293</td>\n",
              "      <td>0.282</td>\n",
              "      <td>0.298</td>\n",
              "      <td>0.315</td>\n",
              "      <td>0.0</td>\n",
              "      <td>0.0</td>\n",
              "      <td>0.0</td>\n",
              "      <td>0.0</td>\n",
              "      <td>0.0</td>\n",
              "      <td>5R3</td>\n",
              "      <td>EC1</td>\n",
              "      <td>A</td>\n",
              "      <td>1</td>\n",
              "      <td>0</td>\n",
              "    </tr>\n",
              "    <tr>\n",
              "      <th>1</th>\n",
              "      <td>2</td>\n",
              "      <td>2005-03-04 00:00:00</td>\n",
              "      <td>5</td>\n",
              "      <td>1.125</td>\n",
              "      <td>0.287</td>\n",
              "      <td>0.265</td>\n",
              "      <td>0.299</td>\n",
              "      <td>0.274</td>\n",
              "      <td>0.0</td>\n",
              "      <td>0.0</td>\n",
              "      <td>0.0</td>\n",
              "      <td>0.0</td>\n",
              "      <td>0.0</td>\n",
              "      <td>5R3</td>\n",
              "      <td>EC1</td>\n",
              "      <td>A</td>\n",
              "      <td>1</td>\n",
              "      <td>0</td>\n",
              "    </tr>\n",
              "    <tr>\n",
              "      <th>2</th>\n",
              "      <td>3</td>\n",
              "      <td>2005-03-04 00:00:00</td>\n",
              "      <td>5</td>\n",
              "      <td>1.090</td>\n",
              "      <td>0.264</td>\n",
              "      <td>0.253</td>\n",
              "      <td>0.297</td>\n",
              "      <td>0.276</td>\n",
              "      <td>0.0</td>\n",
              "      <td>0.0</td>\n",
              "      <td>0.0</td>\n",
              "      <td>0.0</td>\n",
              "      <td>0.0</td>\n",
              "      <td>5R3</td>\n",
              "      <td>EC1</td>\n",
              "      <td>A</td>\n",
              "      <td>1</td>\n",
              "      <td>0</td>\n",
              "    </tr>\n",
              "    <tr>\n",
              "      <th>3</th>\n",
              "      <td>4</td>\n",
              "      <td>2005-03-04 00:00:00</td>\n",
              "      <td>5</td>\n",
              "      <td>1.090</td>\n",
              "      <td>0.269</td>\n",
              "      <td>0.265</td>\n",
              "      <td>0.271</td>\n",
              "      <td>0.285</td>\n",
              "      <td>0.0</td>\n",
              "      <td>0.0</td>\n",
              "      <td>0.0</td>\n",
              "      <td>0.0</td>\n",
              "      <td>0.0</td>\n",
              "      <td>5R3</td>\n",
              "      <td>EC1</td>\n",
              "      <td>A</td>\n",
              "      <td>1</td>\n",
              "      <td>0</td>\n",
              "    </tr>\n",
              "    <tr>\n",
              "      <th>4</th>\n",
              "      <td>5</td>\n",
              "      <td>2005-03-04 00:00:00</td>\n",
              "      <td>5</td>\n",
              "      <td>1.101</td>\n",
              "      <td>0.273</td>\n",
              "      <td>0.267</td>\n",
              "      <td>0.266</td>\n",
              "      <td>0.295</td>\n",
              "      <td>0.0</td>\n",
              "      <td>0.0</td>\n",
              "      <td>0.0</td>\n",
              "      <td>0.0</td>\n",
              "      <td>0.0</td>\n",
              "      <td>5R3</td>\n",
              "      <td>EC1</td>\n",
              "      <td>A</td>\n",
              "      <td>1</td>\n",
              "      <td>0</td>\n",
              "    </tr>\n",
              "  </tbody>\n",
              "</table>\n",
              "</div>\n",
              "    <div class=\"colab-df-buttons\">\n",
              "\n",
              "  <div class=\"colab-df-container\">\n",
              "    <button class=\"colab-df-convert\" onclick=\"convertToInteractive('df-7dc666dd-4d4c-4754-803a-bf27d4b21a34')\"\n",
              "            title=\"Convert this dataframe to an interactive table.\"\n",
              "            style=\"display:none;\">\n",
              "\n",
              "  <svg xmlns=\"http://www.w3.org/2000/svg\" height=\"24px\" viewBox=\"0 -960 960 960\">\n",
              "    <path d=\"M120-120v-720h720v720H120Zm60-500h600v-160H180v160Zm220 220h160v-160H400v160Zm0 220h160v-160H400v160ZM180-400h160v-160H180v160Zm440 0h160v-160H620v160ZM180-180h160v-160H180v160Zm440 0h160v-160H620v160Z\"/>\n",
              "  </svg>\n",
              "    </button>\n",
              "\n",
              "  <style>\n",
              "    .colab-df-container {\n",
              "      display:flex;\n",
              "      gap: 12px;\n",
              "    }\n",
              "\n",
              "    .colab-df-convert {\n",
              "      background-color: #E8F0FE;\n",
              "      border: none;\n",
              "      border-radius: 50%;\n",
              "      cursor: pointer;\n",
              "      display: none;\n",
              "      fill: #1967D2;\n",
              "      height: 32px;\n",
              "      padding: 0 0 0 0;\n",
              "      width: 32px;\n",
              "    }\n",
              "\n",
              "    .colab-df-convert:hover {\n",
              "      background-color: #E2EBFA;\n",
              "      box-shadow: 0px 1px 2px rgba(60, 64, 67, 0.3), 0px 1px 3px 1px rgba(60, 64, 67, 0.15);\n",
              "      fill: #174EA6;\n",
              "    }\n",
              "\n",
              "    .colab-df-buttons div {\n",
              "      margin-bottom: 4px;\n",
              "    }\n",
              "\n",
              "    [theme=dark] .colab-df-convert {\n",
              "      background-color: #3B4455;\n",
              "      fill: #D2E3FC;\n",
              "    }\n",
              "\n",
              "    [theme=dark] .colab-df-convert:hover {\n",
              "      background-color: #434B5C;\n",
              "      box-shadow: 0px 1px 3px 1px rgba(0, 0, 0, 0.15);\n",
              "      filter: drop-shadow(0px 1px 2px rgba(0, 0, 0, 0.3));\n",
              "      fill: #FFFFFF;\n",
              "    }\n",
              "  </style>\n",
              "\n",
              "    <script>\n",
              "      const buttonEl =\n",
              "        document.querySelector('#df-7dc666dd-4d4c-4754-803a-bf27d4b21a34 button.colab-df-convert');\n",
              "      buttonEl.style.display =\n",
              "        google.colab.kernel.accessAllowed ? 'block' : 'none';\n",
              "\n",
              "      async function convertToInteractive(key) {\n",
              "        const element = document.querySelector('#df-7dc666dd-4d4c-4754-803a-bf27d4b21a34');\n",
              "        const dataTable =\n",
              "          await google.colab.kernel.invokeFunction('convertToInteractive',\n",
              "                                                    [key], {});\n",
              "        if (!dataTable) return;\n",
              "\n",
              "        const docLinkHtml = 'Like what you see? Visit the ' +\n",
              "          '<a target=\"_blank\" href=https://colab.research.google.com/notebooks/data_table.ipynb>data table notebook</a>'\n",
              "          + ' to learn more about interactive tables.';\n",
              "        element.innerHTML = '';\n",
              "        dataTable['output_type'] = 'display_data';\n",
              "        await google.colab.output.renderOutput(dataTable, element);\n",
              "        const docLink = document.createElement('div');\n",
              "        docLink.innerHTML = docLinkHtml;\n",
              "        element.appendChild(docLink);\n",
              "      }\n",
              "    </script>\n",
              "  </div>\n",
              "\n",
              "\n",
              "<div id=\"df-411ec898-59b8-430b-832f-c26f406321ad\">\n",
              "  <button class=\"colab-df-quickchart\" onclick=\"quickchart('df-411ec898-59b8-430b-832f-c26f406321ad')\"\n",
              "            title=\"Suggest charts\"\n",
              "            style=\"display:none;\">\n",
              "\n",
              "<svg xmlns=\"http://www.w3.org/2000/svg\" height=\"24px\"viewBox=\"0 0 24 24\"\n",
              "     width=\"24px\">\n",
              "    <g>\n",
              "        <path d=\"M19 3H5c-1.1 0-2 .9-2 2v14c0 1.1.9 2 2 2h14c1.1 0 2-.9 2-2V5c0-1.1-.9-2-2-2zM9 17H7v-7h2v7zm4 0h-2V7h2v10zm4 0h-2v-4h2v4z\"/>\n",
              "    </g>\n",
              "</svg>\n",
              "  </button>\n",
              "\n",
              "<style>\n",
              "  .colab-df-quickchart {\n",
              "      --bg-color: #E8F0FE;\n",
              "      --fill-color: #1967D2;\n",
              "      --hover-bg-color: #E2EBFA;\n",
              "      --hover-fill-color: #174EA6;\n",
              "      --disabled-fill-color: #AAA;\n",
              "      --disabled-bg-color: #DDD;\n",
              "  }\n",
              "\n",
              "  [theme=dark] .colab-df-quickchart {\n",
              "      --bg-color: #3B4455;\n",
              "      --fill-color: #D2E3FC;\n",
              "      --hover-bg-color: #434B5C;\n",
              "      --hover-fill-color: #FFFFFF;\n",
              "      --disabled-bg-color: #3B4455;\n",
              "      --disabled-fill-color: #666;\n",
              "  }\n",
              "\n",
              "  .colab-df-quickchart {\n",
              "    background-color: var(--bg-color);\n",
              "    border: none;\n",
              "    border-radius: 50%;\n",
              "    cursor: pointer;\n",
              "    display: none;\n",
              "    fill: var(--fill-color);\n",
              "    height: 32px;\n",
              "    padding: 0;\n",
              "    width: 32px;\n",
              "  }\n",
              "\n",
              "  .colab-df-quickchart:hover {\n",
              "    background-color: var(--hover-bg-color);\n",
              "    box-shadow: 0 1px 2px rgba(60, 64, 67, 0.3), 0 1px 3px 1px rgba(60, 64, 67, 0.15);\n",
              "    fill: var(--button-hover-fill-color);\n",
              "  }\n",
              "\n",
              "  .colab-df-quickchart-complete:disabled,\n",
              "  .colab-df-quickchart-complete:disabled:hover {\n",
              "    background-color: var(--disabled-bg-color);\n",
              "    fill: var(--disabled-fill-color);\n",
              "    box-shadow: none;\n",
              "  }\n",
              "\n",
              "  .colab-df-spinner {\n",
              "    border: 2px solid var(--fill-color);\n",
              "    border-color: transparent;\n",
              "    border-bottom-color: var(--fill-color);\n",
              "    animation:\n",
              "      spin 1s steps(1) infinite;\n",
              "  }\n",
              "\n",
              "  @keyframes spin {\n",
              "    0% {\n",
              "      border-color: transparent;\n",
              "      border-bottom-color: var(--fill-color);\n",
              "      border-left-color: var(--fill-color);\n",
              "    }\n",
              "    20% {\n",
              "      border-color: transparent;\n",
              "      border-left-color: var(--fill-color);\n",
              "      border-top-color: var(--fill-color);\n",
              "    }\n",
              "    30% {\n",
              "      border-color: transparent;\n",
              "      border-left-color: var(--fill-color);\n",
              "      border-top-color: var(--fill-color);\n",
              "      border-right-color: var(--fill-color);\n",
              "    }\n",
              "    40% {\n",
              "      border-color: transparent;\n",
              "      border-right-color: var(--fill-color);\n",
              "      border-top-color: var(--fill-color);\n",
              "    }\n",
              "    60% {\n",
              "      border-color: transparent;\n",
              "      border-right-color: var(--fill-color);\n",
              "    }\n",
              "    80% {\n",
              "      border-color: transparent;\n",
              "      border-right-color: var(--fill-color);\n",
              "      border-bottom-color: var(--fill-color);\n",
              "    }\n",
              "    90% {\n",
              "      border-color: transparent;\n",
              "      border-bottom-color: var(--fill-color);\n",
              "    }\n",
              "  }\n",
              "</style>\n",
              "\n",
              "  <script>\n",
              "    async function quickchart(key) {\n",
              "      const quickchartButtonEl =\n",
              "        document.querySelector('#' + key + ' button');\n",
              "      quickchartButtonEl.disabled = true;  // To prevent multiple clicks.\n",
              "      quickchartButtonEl.classList.add('colab-df-spinner');\n",
              "      try {\n",
              "        const charts = await google.colab.kernel.invokeFunction(\n",
              "            'suggestCharts', [key], {});\n",
              "      } catch (error) {\n",
              "        console.error('Error during call to suggestCharts:', error);\n",
              "      }\n",
              "      quickchartButtonEl.classList.remove('colab-df-spinner');\n",
              "      quickchartButtonEl.classList.add('colab-df-quickchart-complete');\n",
              "    }\n",
              "    (() => {\n",
              "      let quickchartButtonEl =\n",
              "        document.querySelector('#df-411ec898-59b8-430b-832f-c26f406321ad button');\n",
              "      quickchartButtonEl.style.display =\n",
              "        google.colab.kernel.accessAllowed ? 'block' : 'none';\n",
              "    })();\n",
              "  </script>\n",
              "</div>\n",
              "\n",
              "    </div>\n",
              "  </div>\n"
            ],
            "application/vnd.google.colaboratory.intrinsic+json": {
              "type": "dataframe",
              "variable_name": "dominicana",
              "summary": "{\n  \"name\": \"dominicana\",\n  \"rows\": 8719,\n  \"fields\": [\n    {\n      \"column\": \"codaNUM2018\",\n      \"properties\": {\n        \"dtype\": \"number\",\n        \"std\": 2564,\n        \"min\": 1,\n        \"max\": 8878,\n        \"num_unique_values\": 8719,\n        \"samples\": [\n          602,\n          6851,\n          7790\n        ],\n        \"semantic_type\": \"\",\n        \"description\": \"\"\n      }\n    },\n    {\n      \"column\": \"Date\",\n      \"properties\": {\n        \"dtype\": \"date\",\n        \"min\": \"2005-01-15 00:00:00\",\n        \"max\": \"2016-12-05 00:00:00\",\n        \"num_unique_values\": 101,\n        \"samples\": [\n          \"2015-03-02 00:00:00\",\n          \"2008-04-08 00:00:00\",\n          \"2010-04-15 00:00:00\"\n        ],\n        \"semantic_type\": \"\",\n        \"description\": \"\"\n      }\n    },\n    {\n      \"column\": \"nClicks\",\n      \"properties\": {\n        \"dtype\": \"number\",\n        \"std\": 1,\n        \"min\": 1,\n        \"max\": 10,\n        \"num_unique_values\": 10,\n        \"samples\": [\n          1,\n          4,\n          9\n        ],\n        \"semantic_type\": \"\",\n        \"description\": \"\"\n      }\n    },\n    {\n      \"column\": \"Duration\",\n      \"properties\": {\n        \"dtype\": \"number\",\n        \"std\": 0.4078824123799894,\n        \"min\": 0.0,\n        \"max\": 3.0351729,\n        \"num_unique_values\": 6855,\n        \"samples\": [\n          0.161,\n          1.0505,\n          0.8500333\n        ],\n        \"semantic_type\": \"\",\n        \"description\": \"\"\n      }\n    },\n    {\n      \"column\": \"ICI1\",\n      \"properties\": {\n        \"dtype\": \"number\",\n        \"std\": 0.14406085268168972,\n        \"min\": 0.0,\n        \"max\": 0.7985602,\n        \"num_unique_values\": 5879,\n        \"samples\": [\n          0.5049667,\n          0.0881166,\n          0.394\n        ],\n        \"semantic_type\": \"\",\n        \"description\": \"\"\n      }\n    },\n    {\n      \"column\": \"ICI2\",\n      \"properties\": {\n        \"dtype\": \"number\",\n        \"std\": 0.13358803319497067,\n        \"min\": 0.0,\n        \"max\": 0.6602,\n        \"num_unique_values\": 5901,\n        \"samples\": [\n          0.4343451,\n          0.0969334,\n          0.0994249\n        ],\n        \"semantic_type\": \"\",\n        \"description\": \"\"\n      }\n    },\n    {\n      \"column\": \"ICI3\",\n      \"properties\": {\n        \"dtype\": \"number\",\n        \"std\": 0.08259578247849711,\n        \"min\": 0.0,\n        \"max\": 0.5930743,\n        \"num_unique_values\": 5421,\n        \"samples\": [\n          0.1873,\n          0.0670917,\n          0.1145\n        ],\n        \"semantic_type\": \"\",\n        \"description\": \"\"\n      }\n    },\n    {\n      \"column\": \"ICI4\",\n      \"properties\": {\n        \"dtype\": \"number\",\n        \"std\": 0.08594194430075919,\n        \"min\": 0.0,\n        \"max\": 0.7072818,\n        \"num_unique_values\": 4967,\n        \"samples\": [\n          0.1662677,\n          0.1468167,\n          0.3511\n        ],\n        \"semantic_type\": \"\",\n        \"description\": \"\"\n      }\n    },\n    {\n      \"column\": \"ICI5\",\n      \"properties\": {\n        \"dtype\": \"number\",\n        \"std\": 0.05590731270284971,\n        \"min\": 0.0,\n        \"max\": 0.7733527,\n        \"num_unique_values\": 1034,\n        \"samples\": [\n          0.2697,\n          0.179,\n          0.1791\n        ],\n        \"semantic_type\": \"\",\n        \"description\": \"\"\n      }\n    },\n    {\n      \"column\": \"ICI6\",\n      \"properties\": {\n        \"dtype\": \"number\",\n        \"std\": 0.04032162176941747,\n        \"min\": 0.0,\n        \"max\": 0.4126,\n        \"num_unique_values\": 716,\n        \"samples\": [\n          0.1483,\n          0.164,\n          0.046\n        ],\n        \"semantic_type\": \"\",\n        \"description\": \"\"\n      }\n    },\n    {\n      \"column\": \"ICI7\",\n      \"properties\": {\n        \"dtype\": \"number\",\n        \"std\": 0.030692574503482953,\n        \"min\": 0.0,\n        \"max\": 0.4739834,\n        \"num_unique_values\": 430,\n        \"samples\": [\n          0.3809424,\n          0.2243,\n          0.1731\n        ],\n        \"semantic_type\": \"\",\n        \"description\": \"\"\n      }\n    },\n    {\n      \"column\": \"ICI8\",\n      \"properties\": {\n        \"dtype\": \"number\",\n        \"std\": 0.022442362203145674,\n        \"min\": 0.0,\n        \"max\": 0.3995,\n        \"num_unique_values\": 240,\n        \"samples\": [\n          0.0569,\n          0.048,\n          0.11\n        ],\n        \"semantic_type\": \"\",\n        \"description\": \"\"\n      }\n    },\n    {\n      \"column\": \"ICI9\",\n      \"properties\": {\n        \"dtype\": \"number\",\n        \"std\": 0.015135874279223078,\n        \"min\": 0.0,\n        \"max\": 0.3376583,\n        \"num_unique_values\": 91,\n        \"samples\": [\n          0.1927,\n          0.066,\n          0.2034\n        ],\n        \"semantic_type\": \"\",\n        \"description\": \"\"\n      }\n    },\n    {\n      \"column\": \"CodaType\",\n      \"properties\": {\n        \"dtype\": \"category\",\n        \"num_unique_values\": 35,\n        \"samples\": [\n          \"8D\",\n          \"1+1+3\",\n          \"3R\"\n        ],\n        \"semantic_type\": \"\",\n        \"description\": \"\"\n      }\n    },\n    {\n      \"column\": \"Clan\",\n      \"properties\": {\n        \"dtype\": \"category\",\n        \"num_unique_values\": 2,\n        \"samples\": [\n          \"EC2\",\n          \"EC1\"\n        ],\n        \"semantic_type\": \"\",\n        \"description\": \"\"\n      }\n    },\n    {\n      \"column\": \"Unit\",\n      \"properties\": {\n        \"dtype\": \"category\",\n        \"num_unique_values\": 13,\n        \"samples\": [\n          \"S\",\n          \"P\"\n        ],\n        \"semantic_type\": \"\",\n        \"description\": \"\"\n      }\n    },\n    {\n      \"column\": \"UnitNum\",\n      \"properties\": {\n        \"dtype\": \"number\",\n        \"std\": 3,\n        \"min\": 1,\n        \"max\": 13,\n        \"num_unique_values\": 13,\n        \"samples\": [\n          9,\n          7\n        ],\n        \"semantic_type\": \"\",\n        \"description\": \"\"\n      }\n    },\n    {\n      \"column\": \"IDN\",\n      \"properties\": {\n        \"dtype\": \"category\",\n        \"num_unique_values\": 36,\n        \"samples\": [\n          6052,\n          5563\n        ],\n        \"semantic_type\": \"\",\n        \"description\": \"\"\n      }\n    }\n  ]\n}"
            }
          },
          "metadata": {},
          "execution_count": 6
        }
      ],
      "source": [
        "dominicana.head()"
      ]
    },
    {
      "cell_type": "code",
      "execution_count": null,
      "metadata": {
        "id": "JxbLqleCOCqm"
      },
      "outputs": [],
      "source": [
        "def get_independent_vars(row, start_col=4, n_vals=9):\n",
        "    vals = [v for v in row[start_col:(start_col+n_vals)].values if v != 0]\n",
        "    return np.pad(vals, (n_vals - len(vals), 0))"
      ]
    },
    {
      "cell_type": "code",
      "execution_count": null,
      "metadata": {
        "colab": {
          "base_uri": "https://localhost:8080/"
        },
        "id": "u-Q2jUUJOUoY",
        "outputId": "6e53fde1-e81a-4a33-ba5d-e97d84d5c780"
      },
      "outputs": [
        {
          "output_type": "execute_result",
          "data": {
            "text/plain": [
              "array([0.   , 0.   , 0.   , 0.   , 0.   , 0.293, 0.282, 0.298, 0.315])"
            ]
          },
          "metadata": {},
          "execution_count": 7
        }
      ],
      "source": [
        "get_independent_vars(dominicana.iloc[0])"
      ]
    },
    {
      "cell_type": "code",
      "execution_count": null,
      "metadata": {
        "id": "EtJAxfJINkRQ"
      },
      "outputs": [],
      "source": [
        "def get_target(row, col_name): return row[col_name]\n",
        "get_clan_membership = partialler(get_target, col_name='Clan')"
      ]
    },
    {
      "cell_type": "code",
      "execution_count": null,
      "metadata": {
        "id": "Eoo9VOSUK4_o"
      },
      "outputs": [],
      "source": [
        "# mask = dominicana.CodaType.isin(['1-NOISE', '2-NOISE','3-NOISE','4-NOISE','5-NOISE','6-NOISE','7-NOISE','8-NOISE','9-NOISE','10-NOISE','10i','10R'])\n",
        "# dominicana_clean = dominicana[~mask]"
      ]
    },
    {
      "cell_type": "code",
      "execution_count": null,
      "metadata": {
        "colab": {
          "base_uri": "https://localhost:8080/"
        },
        "id": "tS0QpfI8K9wx",
        "outputId": "2c93170c-2f46-4ed2-d804-64c1f8b45062"
      },
      "outputs": [
        {
          "output_type": "execute_result",
          "data": {
            "text/plain": [
              "23"
            ]
          },
          "metadata": {},
          "execution_count": 11
        }
      ],
      "source": [
        "# dominicana_clean.CodaType.nunique()"
      ]
    },
    {
      "cell_type": "code",
      "execution_count": null,
      "metadata": {
        "colab": {
          "base_uri": "https://localhost:8080/"
        },
        "id": "kCW0tq60K952",
        "outputId": "38ce575c-00ed-45dc-dfbf-f6ab91c63eeb"
      },
      "outputs": [
        {
          "output_type": "execute_result",
          "data": {
            "text/plain": [
              "(8032, 18)"
            ]
          },
          "metadata": {},
          "execution_count": 12
        }
      ],
      "source": [
        "# dominicana_clean.shape"
      ]
    },
    {
      "cell_type": "code",
      "execution_count": null,
      "metadata": {
        "id": "xOLfnUoxNrZH"
      },
      "outputs": [],
      "source": [
        "tfmd_lists = TfmdLists(dominicana_clean, [get_clan_membership])"
      ]
    },
    {
      "cell_type": "code",
      "execution_count": null,
      "metadata": {
        "id": "Ev1hw7UUNuLQ"
      },
      "outputs": [],
      "source": [
        "tfmd_lists[0]"
      ]
    },
    {
      "cell_type": "code",
      "execution_count": null,
      "metadata": {
        "colab": {
          "base_uri": "https://localhost:8080/"
        },
        "id": "DaWZ2VkJN594",
        "outputId": "c2f81322-d7f4-4616-91b5-82edbb323b3b"
      },
      "outputs": [
        {
          "output_type": "execute_result",
          "data": {
            "text/plain": [
              "(#8719) [(array([0.   , 0.   , 0.   , 0.   , 0.   , 0.293, 0.282, 0.298, 0.315]), 'EC1'),(array([0.   , 0.   , 0.   , 0.   , 0.   , 0.287, 0.265, 0.299, 0.274]), 'EC1'),(array([0.   , 0.   , 0.   , 0.   , 0.   , 0.264, 0.253, 0.297, 0.276]), 'EC1'),(array([0.   , 0.   , 0.   , 0.   , 0.   , 0.269, 0.265, 0.271, 0.285]), 'EC1'),(array([0.   , 0.   , 0.   , 0.   , 0.   , 0.273, 0.267, 0.266, 0.295]), 'EC1'),(array([0.   , 0.   , 0.   , 0.   , 0.   , 0.278, 0.27 , 0.269, 0.271]), 'EC1'),(array([0.   , 0.   , 0.   , 0.   , 0.   , 0.269, 0.293, 0.287, 0.289]), 'EC1'),(array([0.   , 0.   , 0.   , 0.   , 0.   , 0.279, 0.277, 0.28 , 0.294]), 'EC1'),(array([0.   , 0.   , 0.   , 0.   , 0.   , 0.284, 0.278, 0.28 , 0.29 ]), 'EC1'),(array([0.   , 0.   , 0.   , 0.   , 0.   , 0.297, 0.277, 0.275, 0.283]), 'EC1')...]"
            ]
          },
          "metadata": {},
          "execution_count": 9
        }
      ],
      "source": [
        "dataset = Datasets(dominicana, [[get_independent_vars], [get_clan_membership]]); dataset"
      ]
    },
    {
      "cell_type": "code",
      "execution_count": null,
      "metadata": {
        "id": "HfwzWdUAzJ4t"
      },
      "outputs": [],
      "source": [
        "# dataset = Datasets(dominicana_clean, [[get_independent_vars], [get_clan_membership]]); dataset"
      ]
    },
    {
      "cell_type": "code",
      "execution_count": null,
      "metadata": {
        "colab": {
          "base_uri": "https://localhost:8080/"
        },
        "id": "iTkOk8H8OqFA",
        "outputId": "28539f83-5103-46eb-89b7-9a73c1bba7bf"
      },
      "outputs": [
        {
          "output_type": "execute_result",
          "data": {
            "text/plain": [
              "8719"
            ]
          },
          "metadata": {},
          "execution_count": 16
        }
      ],
      "source": [
        "len(dataset)"
      ]
    },
    {
      "cell_type": "code",
      "execution_count": null,
      "metadata": {
        "colab": {
          "base_uri": "https://localhost:8080/"
        },
        "id": "14iLNCSaZY8o",
        "outputId": "1fdc5308-952f-411c-97d1-b7fd097ff850"
      },
      "outputs": [
        {
          "output_type": "execute_result",
          "data": {
            "text/plain": [
              "(array([0.   , 0.   , 0.   , 0.   , 0.   , 0.293, 0.282, 0.298, 0.315]), 'EC1')"
            ]
          },
          "metadata": {},
          "execution_count": 17
        }
      ],
      "source": [
        "dataset[0]"
      ]
    },
    {
      "cell_type": "code",
      "execution_count": null,
      "metadata": {
        "id": "7bynsxy33mas"
      },
      "outputs": [],
      "source": [
        "from fastai.vision.all import *\n",
        "import torch\n",
        "from torch import nn\n",
        "from torch.utils.data import *\n",
        "from collections import defaultdict\n",
        "from sklearn.model_selection import train_test_split"
      ]
    },
    {
      "cell_type": "markdown",
      "source": [
        "### Triplet Generation"
      ],
      "metadata": {
        "id": "4GzHjckwXMl4"
      }
    },
    {
      "cell_type": "code",
      "execution_count": null,
      "metadata": {
        "id": "a_8SC0LsFtUP"
      },
      "outputs": [],
      "source": [
        "def get_triplet_data(data, n_samples=100000, both=True):\n",
        "  X_anchor, X_positive, X_negative = [], [], []\n",
        "  cat_data = defaultdict(list)\n",
        "  for item in data:\n",
        "    cat_data[item[1]].append(item[0])\n",
        "  categories = list(cat_data.keys())\n",
        "  generated_triplets = set()\n",
        "  count=0\n",
        "  # Noth : both variable contorls if both EC1 and EC2 codas can be used as anchors.\n",
        "  while count < n_samples:\n",
        "    if random.random() < 0.5 and both:\n",
        "      anchor = random.choice(cat_data[categories[1]])\n",
        "      positive = random.choice(cat_data[categories[1]])\n",
        "      negative = random.choice(cat_data[categories[0]])\n",
        "    else:\n",
        "      anchor = random.choice(cat_data[categories[0]])\n",
        "      positive = random.choice(cat_data[categories[0]])\n",
        "      negative = random.choice(cat_data[categories[1]])\n",
        "\n",
        "    triplet = (tuple(anchor), tuple(positive), tuple(negative))\n",
        "    if triplet not in generated_triplets:\n",
        "      count+=1\n",
        "      generated_triplets.add(triplet)\n",
        "      X_anchor.append(anchor)\n",
        "      X_positive.append(positive)\n",
        "      X_negative.append(negative)\n",
        "\n",
        "  X_anchor = torch.from_numpy(np.array(X_anchor)).float()\n",
        "  X_positive = torch.from_numpy(np.array(X_positive)).float()\n",
        "  X_negative = torch.from_numpy(np.array(X_negative)).float()\n",
        "  return X_anchor, X_positive, X_negative"
      ]
    },
    {
      "cell_type": "code",
      "execution_count": null,
      "metadata": {
        "id": "KN7nOSNe-icp"
      },
      "outputs": [],
      "source": [
        "X_anchor, X_positive, X_negative = get_triplet_data(dataset,100000)\n",
        "\n",
        "X_anchor_train, X_anchor_val, X_positive_train, X_positive_val, X_negative_train, X_negative_val = train_test_split(X_anchor, X_positive, X_negative, test_size=0.2, random_state=42)\n",
        "\n",
        "train_dataset = TensorDataset(X_anchor_train, X_positive_train, X_negative_train)\n",
        "val_dataset = TensorDataset(X_anchor_val, X_positive_val, X_negative_val)\n",
        "\n",
        "train_loader = DataLoader(train_dataset, batch_size=32, shuffle=True)\n",
        "val_loader = DataLoader(val_dataset, batch_size=32, shuffle=False)"
      ]
    },
    {
      "cell_type": "markdown",
      "source": [
        "### Model"
      ],
      "metadata": {
        "id": "eKYaHNlpXtR6"
      }
    },
    {
      "cell_type": "code",
      "execution_count": null,
      "metadata": {
        "id": "lobnsOaFbbbR"
      },
      "outputs": [],
      "source": [
        "class SiameseNetwork(nn.Module):\n",
        "  def __init__(self):\n",
        "    super(SiameseNetwork, self).__init__()\n",
        "    self.conv1 = nn.Conv1d(in_channels=1, out_channels=16, kernel_size=3, padding=1)\n",
        "    self.conv2 = nn.Conv1d(in_channels=16, out_channels=32, kernel_size=3, padding=1)\n",
        "    self.conv3 = nn.Conv1d(in_channels=32, out_channels=64, kernel_size=3, padding=1)\n",
        "\n",
        "    self.fc1 = nn.Linear(64 * 9, 128)\n",
        "    self.fc2 = nn.Linear(128, 128)\n",
        "    self.fc3 = nn.Linear(128, 128)\n",
        "\n",
        "  def forward_one(self, x):\n",
        "    x = x.unsqueeze(1)  # [1,2,...] => [[1],[2],....]\n",
        "    x = F.relu(self.conv1(x))\n",
        "    x = F.relu(self.conv2(x))\n",
        "    x = F.relu(self.conv3(x))\n",
        "\n",
        "    x = x.view(x.size(0), -1)  # Flattens the output\n",
        "    x = F.relu(self.fc1(x))\n",
        "    x = F.relu(self.fc2(x))\n",
        "    x = self.fc3(x)\n",
        "    return x\n",
        "\n",
        "  def forward(self, input1, input2, input3):\n",
        "    output1 = self.forward_one(input1)\n",
        "    output2 = self.forward_one(input2)\n",
        "    output3 = self.forward_one(input3)\n",
        "    return output1, output2, output3\n",
        "\n",
        "class SiameseNet(nn.Module):\n",
        "  def __init__(self):\n",
        "    super(SiameseNet, self).__init__()\n",
        "    self.embedding_net = SiameseNetwork()\n",
        "\n",
        "  def forward(self, x1, x2, x3):\n",
        "    out1, out2, out3 = self.embedding_net(x1, x2, x3)\n",
        "    return out1, out2, out3\n",
        "\n",
        "  def get_embedding(self, x):\n",
        "    return self.embedding_net.forward_one(x)\n"
      ]
    },
    {
      "cell_type": "markdown",
      "source": [
        "### Triplet Loss"
      ],
      "metadata": {
        "id": "VWwARzZ1Xv_O"
      }
    },
    {
      "cell_type": "code",
      "execution_count": null,
      "metadata": {
        "id": "egsC5_O_2gzc"
      },
      "outputs": [],
      "source": [
        "class TripletLoss(nn.Module):\n",
        "  def __init__(self, margin):\n",
        "    super(TripletLoss, self).__init__()\n",
        "    self.margin = margin\n",
        "\n",
        "  def forward(self, anchor, positive, negative):\n",
        "    positive_distance = F.pairwise_distance(anchor, positive)\n",
        "    negative_distance = F.pairwise_distance(anchor, negative)\n",
        "    losses = F.relu(positive_distance - negative_distance + self.margin)\n",
        "    return losses.mean()\n"
      ]
    },
    {
      "cell_type": "markdown",
      "source": [
        "### Accuracy and Evaluation"
      ],
      "metadata": {
        "id": "kM2nX0KVYd3R"
      }
    },
    {
      "cell_type": "code",
      "execution_count": null,
      "metadata": {
        "id": "jWhQ7bvI2g5P"
      },
      "outputs": [],
      "source": [
        "def compute_accuracy(anchor, positive, negative):\n",
        "  positive_distance = F.pairwise_distance(anchor, positive)\n",
        "  negative_distance = F.pairwise_distance(anchor, negative)\n",
        "  return (positive_distance < negative_distance).float().mean() # Correct Classifications/Total Pairs\n",
        "\n",
        "def evaluate_model(model, dataloader):\n",
        "  model.eval()\n",
        "  total_loss = 0\n",
        "  total_accuracy = 0\n",
        "  with torch.no_grad():\n",
        "    for anchor, positive, negative in dataloader:\n",
        "      anchor, positive, negative = anchor.float(), positive.float(), negative.float()\n",
        "      output_anchor, output_positive, output_negative = model(anchor, positive, negative)\n",
        "      loss = criterion(output_anchor, output_positive, output_negative)\n",
        "      accuracy = compute_accuracy(output_anchor, output_positive, output_negative)\n",
        "      total_loss += loss.item()\n",
        "      total_accuracy += accuracy.item()\n",
        "  avg_loss = total_loss / len(dataloader)\n",
        "  avg_accuracy = total_accuracy / len(dataloader)\n",
        "  # print(avg_loss,avg_accuracy)\n",
        "  return avg_loss, avg_accuracy"
      ]
    },
    {
      "cell_type": "markdown",
      "source": [
        "### Training Loop"
      ],
      "metadata": {
        "id": "1afXD4vNYkPm"
      }
    },
    {
      "cell_type": "code",
      "execution_count": null,
      "metadata": {
        "id": "-qCb89lxjtiW"
      },
      "outputs": [],
      "source": [
        "model = SiameseNet()\n",
        "lr = 1e-3\n",
        "criterion = TripletLoss(margin=1.0)\n",
        "optimizer = torch.optim.Adam(model.parameters(), lr=lr)\n",
        "\n",
        "#Reduce lr by factor of 0.1 on plateau\n",
        "scheduler = torch.optim.lr_scheduler.ReduceLROnPlateau(optimizer, factor=0.1,threshold=0.01, patience = 5, min_lr=1e-5)\n",
        "\n",
        "train_l = []\n",
        "train_acc = []\n",
        "val_l = []\n",
        "val_acc = []\n",
        "num_epochs = 80\n",
        "for epoch in range(num_epochs):\n",
        "  model.train()\n",
        "  total_loss = 0\n",
        "  total_accuracy = 0\n",
        "  for anchor, positive, negative in train_loader:\n",
        "    anchor, positive, negative = anchor.float(), positive.float(), negative.float()\n",
        "    optimizer.zero_grad()\n",
        "    output_anchor, output_positive, output_negative = model(anchor, positive, negative)\n",
        "    loss = criterion(output_anchor, output_positive, output_negative)\n",
        "    loss.backward()\n",
        "    optimizer.step()\n",
        "\n",
        "    accuracy = compute_accuracy(output_anchor, output_positive, output_negative)\n",
        "    total_loss += loss.item()\n",
        "    total_accuracy += accuracy.item()\n",
        "\n",
        "  avg_train_loss = total_loss / len(train_loader)\n",
        "  avg_train_accuracy = total_accuracy / len(train_loader)\n",
        "\n",
        "  val_loss, val_accuracy = evaluate_model(model, val_loader)\n",
        "  scheduler.step(val_loss)\n",
        "\n",
        "  print(f'Epoch {epoch+1}/{num_epochs}')\n",
        "  print('lr: '+ str(optimizer.param_groups[0]['lr']))\n",
        "  print(f'Train Loss: {avg_train_loss:.4f}, Train Accuracy: {avg_train_accuracy:.4f}')\n",
        "  print(f'Validation Loss: {val_loss:.4f}, Validation Accuracy: {val_accuracy:.4f}')\n",
        "  train_l.append(avg_train_loss)\n",
        "  train_acc.append(avg_train_accuracy)\n",
        "  val_l.append(val_loss)\n",
        "  val_acc.append(val_accuracy)"
      ]
    },
    {
      "cell_type": "code",
      "execution_count": null,
      "metadata": {
        "id": "5oVkgWAweGjQ"
      },
      "outputs": [],
      "source": [
        "model_path = 'siamese_network_dominicana.pth'\n",
        "torch.save(model.state_dict(), model_path)\n",
        "print(f'Model saved to {model_path}')"
      ]
    },
    {
      "cell_type": "code",
      "source": [
        "model = SiameseNet()\n",
        "model.load_state_dict(torch.load('/content/siamese_network_dominicana.pth'))\n",
        "model.eval()"
      ],
      "metadata": {
        "colab": {
          "base_uri": "https://localhost:8080/"
        },
        "id": "cV_To3VrU3-K",
        "outputId": "fcbadef0-bee1-49ab-e703-26b3e6e8f90f"
      },
      "execution_count": null,
      "outputs": [
        {
          "output_type": "execute_result",
          "data": {
            "text/plain": [
              "SiameseNet(\n",
              "  (embedding_net): SiameseNetwork(\n",
              "    (conv1): Conv1d(1, 16, kernel_size=(3,), stride=(1,), padding=(1,))\n",
              "    (conv2): Conv1d(16, 32, kernel_size=(3,), stride=(1,), padding=(1,))\n",
              "    (conv3): Conv1d(32, 64, kernel_size=(3,), stride=(1,), padding=(1,))\n",
              "    (fc1): Linear(in_features=576, out_features=128, bias=True)\n",
              "    (fc2): Linear(in_features=128, out_features=128, bias=True)\n",
              "    (fc3): Linear(in_features=128, out_features=128, bias=True)\n",
              "  )\n",
              ")"
            ]
          },
          "metadata": {},
          "execution_count": 27
        }
      ]
    },
    {
      "cell_type": "code",
      "source": [
        "criterion = TripletLoss(margin=1.0)"
      ],
      "metadata": {
        "id": "11WfWnSRVMcC"
      },
      "execution_count": null,
      "outputs": []
    },
    {
      "cell_type": "markdown",
      "source": [
        "### Testing"
      ],
      "metadata": {
        "id": "JjVDoGqgZKpG"
      }
    },
    {
      "cell_type": "code",
      "execution_count": null,
      "metadata": {
        "id": "uX0awR3q9gd3"
      },
      "outputs": [],
      "source": [
        "X_anchor_test, X_positive_test, X_negative_test = get_triplet_data(dataset,10000,False)\n",
        "\n",
        "test_dataset = TensorDataset(X_anchor_test, X_positive_test, X_negative_test)\n",
        "test_loader = DataLoader(test_dataset, batch_size=32, shuffle=False)"
      ]
    },
    {
      "cell_type": "code",
      "execution_count": null,
      "metadata": {
        "colab": {
          "base_uri": "https://localhost:8080/"
        },
        "id": "rPklvTFFKLvQ",
        "outputId": "596a67c7-40d4-4c41-9f11-9bf6606b8d5e"
      },
      "outputs": [
        {
          "output_type": "stream",
          "name": "stdout",
          "text": [
            "Test Loss: 0.0309, Test Accuracy: 0.9891\n"
          ]
        }
      ],
      "source": [
        "test_loss, test_accuracy = evaluate_model(model, test_loader)\n",
        "\n",
        "print(f'Test Loss: {test_loss:.4f}, Test Accuracy: {test_accuracy:.4f}')\n"
      ]
    },
    {
      "cell_type": "code",
      "execution_count": null,
      "metadata": {
        "id": "ZZuJ_0QzKNnZ"
      },
      "outputs": [],
      "source": [
        "def compute_distances(anchor, positive, negative):\n",
        "  positive_distance = F.pairwise_distance(anchor, positive).cpu().numpy()\n",
        "  negative_distance = F.pairwise_distance(anchor, negative).cpu().numpy()\n",
        "  return positive_distance, negative_distance\n",
        "\n",
        "model.eval()\n",
        "all_positive_distances = []\n",
        "all_negative_distances = []\n",
        "with torch.no_grad():\n",
        "  for anchor, positive, negative in test_loader:\n",
        "    anchor, positive, negative = anchor.float(), positive.float(), negative.float()\n",
        "    output_anchor, output_positive, output_negative = model(anchor, positive, negative)\n",
        "    pos_dist, neg_dist = compute_distances(output_anchor, output_positive, output_negative)\n",
        "    all_positive_distances.extend(pos_dist)\n",
        "    all_negative_distances.extend(neg_dist)\n",
        "\n",
        "all_positive_distances = np.array(all_positive_distances)\n",
        "all_negative_distances = np.array(all_negative_distances)\n"
      ]
    },
    {
      "cell_type": "code",
      "execution_count": null,
      "metadata": {
        "id": "5SGD4vmMKQ8E"
      },
      "outputs": [],
      "source": [
        "import matplotlib.pyplot as plt\n",
        "\n",
        "plt.figure(figsize=(10, 5))\n",
        "plt.hist(all_positive_distances, bins=50, alpha=0.5, label='Positive Distances')\n",
        "plt.hist(all_negative_distances, bins=50, alpha=0.5, label='Negative Distances')\n",
        "plt.xlabel('Distance')\n",
        "plt.ylabel('Frequency')\n",
        "plt.legend()\n",
        "plt.show()\n"
      ]
    },
    {
      "cell_type": "code",
      "execution_count": null,
      "metadata": {
        "id": "CYqWYrcWKTTF"
      },
      "outputs": [],
      "source": [
        "from sklearn.manifold import TSNE\n",
        "import seaborn as sns\n",
        "\n",
        "def get_embeddings(model, dataloader):\n",
        "  model.eval()\n",
        "  embeddings = []\n",
        "  labels = []\n",
        "  with torch.no_grad():\n",
        "    for anchor, positive, negative in dataloader:\n",
        "      positive, negative = positive.float(), negative.float()\n",
        "      output_positive = model.get_embedding(positive)\n",
        "      output_negative = model.get_embedding(negative)\n",
        "      embeddings.append(output_positive)\n",
        "      embeddings.append(output_negative)\n",
        "      labels.extend(['EC1'] * len(positive))\n",
        "      labels.extend(['EC2'] * len(negative))\n",
        "  embeddings = torch.cat(embeddings).cpu().numpy()\n",
        "  labels = np.array(labels)\n",
        "  return embeddings, labels\n",
        "\n",
        "embeddings, labels = get_embeddings(model, test_loader)\n",
        "\n",
        "# Use t-SNE for visualization\n",
        "tsne = TSNE(n_components=2, random_state=42)\n",
        "embeddings_2d = tsne.fit_transform(embeddings)\n",
        "\n",
        "# Plot the embeddings\n",
        "plt.figure(figsize=(10, 10))\n",
        "sns.scatterplot(x=embeddings_2d[:, 0], y=embeddings_2d[:, 1], hue=labels, palette=['red', 'green'])\n",
        "plt.title('t-SNE visualization of embeddings')\n",
        "plt.show()\n"
      ]
    },
    {
      "cell_type": "code",
      "execution_count": null,
      "metadata": {
        "id": "9_AdK14lTGBY"
      },
      "outputs": [],
      "source": [
        "from sklearn.manifold import TSNE\n",
        "import matplotlib.pyplot as plt\n",
        "from mpl_toolkits.mplot3d import Axes3D\n",
        "\n",
        "def get_embeddings(model, dataloader):\n",
        "  model.eval()\n",
        "  embeddings = []\n",
        "  labels = []\n",
        "  with torch.no_grad():\n",
        "    for anchor, positive, negative in dataloader:\n",
        "      anchor, positive, negative = anchor.float(), positive.float(), negative.float()\n",
        "      output_anchor = model.get_embedding(anchor)\n",
        "      output_positive = model.get_embedding(positive)\n",
        "      output_negative = model.get_embedding(negative)\n",
        "      embeddings.append(output_anchor)\n",
        "      embeddings.append(output_positive)\n",
        "      embeddings.append(output_negative)\n",
        "      labels.extend([0] * len(anchor))  # 0 for anchors\n",
        "      labels.extend([1] * len(positive))  # 1 for positives\n",
        "      labels.extend([2] * len(negative))  # 2 for negatives\n",
        "  embeddings = torch.cat(embeddings).cpu().numpy()\n",
        "  labels = np.array(labels)\n",
        "  return embeddings, labels\n",
        "\n",
        "embeddings, labels = get_embeddings(model, test_loader)\n"
      ]
    },
    {
      "cell_type": "code",
      "execution_count": null,
      "metadata": {
        "id": "Q7zDEbWQTGo6"
      },
      "outputs": [],
      "source": [
        "tsne = TSNE(n_components=3, random_state=42)\n",
        "embeddings_3d = tsne.fit_transform(embeddings)\n"
      ]
    },
    {
      "cell_type": "code",
      "execution_count": null,
      "metadata": {
        "id": "paxe3pV5TGsO"
      },
      "outputs": [],
      "source": [
        "fig = plt.figure(figsize=(12, 8))\n",
        "ax = fig.add_subplot(111, projection='3d')\n",
        "\n",
        "sc = ax.scatter(embeddings_3d[labels == 1, 0], embeddings_3d[labels == 1, 1], embeddings_3d[labels == 1, 2], c='red', label='EC1', alpha=0.5)\n",
        "sc = ax.scatter(embeddings_3d[labels == 2, 0], embeddings_3d[labels == 2, 1], embeddings_3d[labels == 2, 2], c='green', label='EC2', alpha=0.5)\n",
        "\n",
        "ax.set_xlabel('X Axis')\n",
        "ax.set_ylabel('Y Axis')\n",
        "ax.set_zlabel('Z Axis')\n",
        "ax.legend()\n",
        "plt.title('3D t-SNE visualization of embeddings')\n",
        "plt.show()\n"
      ]
    },
    {
      "cell_type": "code",
      "execution_count": null,
      "metadata": {
        "id": "oUVNrUWFXOf6"
      },
      "outputs": [],
      "source": [
        "def plot_loss_curves(train_losses, val_losses):\n",
        "  plt.figure(figsize=(10, 5))\n",
        "  plt.plot(train_losses, label='Training Loss')\n",
        "  plt.plot(val_losses, label='Validation Loss')\n",
        "  plt.xlabel('Epoch')\n",
        "  plt.ylabel('Loss')\n",
        "  plt.title('Training and Validation Loss Curves')\n",
        "  plt.legend()\n",
        "  plt.grid(True)\n",
        "  plt.show()\n",
        "plot_loss_curves(train_l, val_l)\n"
      ]
    },
    {
      "cell_type": "code",
      "execution_count": null,
      "metadata": {
        "id": "7lm7zBswXyGU"
      },
      "outputs": [],
      "source": [
        "def plot_acc_curves(train_acc, val_acc):\n",
        "  plt.figure(figsize=(10, 5))\n",
        "  plt.plot(train_acc, label='Training Accuracy')\n",
        "  plt.plot(val_acc, label='Validation Accuracy')\n",
        "  plt.xlabel('Epoch')\n",
        "  plt.ylabel('Accuracy')\n",
        "  plt.title('Training and Validation Accuracy Curves')\n",
        "  plt.legend()\n",
        "  plt.grid(True)\n",
        "  plt.show()\n",
        "plot_loss_curves(train_acc, val_acc)"
      ]
    }
  ],
  "metadata": {
    "colab": {
      "gpuType": "T4",
      "provenance": [],
      "authorship_tag": "ABX9TyMGg6ZDZHPixDaYNchx4/hz",
      "include_colab_link": true
    },
    "kernelspec": {
      "display_name": "Python 3",
      "name": "python3"
    },
    "language_info": {
      "name": "python"
    }
  },
  "nbformat": 4,
  "nbformat_minor": 0
}